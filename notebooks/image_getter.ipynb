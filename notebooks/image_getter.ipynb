{
 "cells": [
  {
   "cell_type": "markdown",
   "id": "eba178f2",
   "metadata": {},
   "source": [
    "# 1. Importing Libraries"
   ]
  },
  {
   "cell_type": "code",
   "execution_count": 3,
   "id": "4fc8886a-8e1f-4432-b55e-28d1c9f5a456",
   "metadata": {},
   "outputs": [],
   "source": [
    "import requests\n",
    "import os\n",
    "import dotenv"
   ]
  },
  {
   "cell_type": "code",
   "execution_count": 14,
   "id": "46ed6dee",
   "metadata": {},
   "outputs": [],
   "source": [
    "# Load environment variables\n",
    "dotenv.load_dotenv()\n",
    "\n",
    "# Get the API key\n",
    "google_api_key = os.getenv(\"google_api_key\")"
   ]
  },
  {
   "cell_type": "markdown",
   "id": "83e71c63",
   "metadata": {},
   "source": [
    "# 2. Initial Location Setting"
   ]
  },
  {
   "cell_type": "code",
   "execution_count": 6,
   "id": "2d416085-4018-4ae7-95f8-666693bf52f4",
   "metadata": {},
   "outputs": [],
   "source": [
    "# Inital location setting\n",
    "lat, lon = 37.479241, 126.952545  # initial location\n",
    "increment = 0.000048  # one step\n",
    "lon_inc = 0.00018"
   ]
  },
  {
   "cell_type": "code",
   "execution_count": 7,
   "id": "404d32d1-1aa1-4eb6-a592-e764972af9e1",
   "metadata": {},
   "outputs": [
    {
     "name": "stdout",
     "output_type": "stream",
     "text": [
      "3.874999999986528e-05 -0.0003843500000002109\n"
     ]
    }
   ],
   "source": [
    "#  SookGogae\n",
    "lat_s, lon_s = 37.478701, 126.952144  \n",
    "lat_f, lon_f = 37.479476, 126.944457\n",
    "inc_ss =  (lat_f-lat_s)/20 \n",
    "lon_inc_ss = (lon_f-lon_s)/20\n",
    "print(inc_ss, lon_inc_ss)"
   ]
  },
  {
   "cell_type": "code",
   "execution_count": 8,
   "id": "730a6372-09c8-4027-843f-160ffd221102",
   "metadata": {},
   "outputs": [],
   "source": [
    "# folder setting\n",
    "folder_name = 'streetview_images'\n",
    "folder_name_2 = 'streetview_images_Ssook'\n",
    "folder_name_3 = 'streetview_images_3'\n",
    "\n",
    "if not os.path.exists(folder_name):\n",
    "    os.makedirs(folder_name)\n",
    "\n",
    "if not os.path.exists(folder_name_2):\n",
    "    os.makedirs(folder_name_2)\n",
    "\n",
    "if not os.path.exists(folder_name_3):\n",
    "    os.makedirs(folder_name_3)"
   ]
  },
  {
   "cell_type": "code",
   "execution_count": 9,
   "id": "299a773e-7fe8-410c-82c0-d9dd301cd7e6",
   "metadata": {},
   "outputs": [],
   "source": [
    "# 이미지를 저장할 폴더 생성\n",
    "folder_name = 'test_images'\n",
    "\n",
    "if not os.path.exists(folder_name):\n",
    "    os.makedirs(folder_name)\n"
   ]
  },
  {
   "cell_type": "markdown",
   "id": "f4e7353e",
   "metadata": {},
   "source": [
    "# 3. getting SVIs using Google Map API"
   ]
  },
  {
   "cell_type": "code",
   "execution_count": 10,
   "id": "9fbd8e56-03f1-43da-8cc8-3c943896cf4c",
   "metadata": {},
   "outputs": [],
   "source": [
    "# API URL\n",
    "api_url = \"https://maps.googleapis.com/maps/api/streetview\" "
   ]
  },
  {
   "cell_type": "code",
   "execution_count": 15,
   "id": "188e1000-d379-4256-8664-a0abbe54de26",
   "metadata": {},
   "outputs": [],
   "source": [
    "# Iterate over each location\n",
    "for i in range(0, 20):\n",
    "    # Iterate over each heading\n",
    "    for heading in [0, 90, 180, 270]:\n",
    "        # API request parameters\n",
    "        params = {\n",
    "            \"size\": \"256x256\",\n",
    "            \"location\": f\"{lat + increment * i},{lon + lon_inc * i}\",\n",
    "            \"heading\": str(heading),\n",
    "            \"pitch\": \"0\",\n",
    "            \"key\": google_api_key  \n",
    "        }\n",
    "\n",
    "        # API request and response check\n",
    "        response = requests.get(api_url, params=params)\n",
    "        if response.status_code == 200:\n",
    "            # Save image (include location index and heading in file name)\n",
    "            with open(f\"{folder_name}/image_{i}_heading_{heading}.jpg\", \"wb\") as file:\n",
    "                file.write(response.content)"
   ]
  },
  {
   "cell_type": "code",
   "execution_count": null,
   "id": "7543ea96-ebe2-474b-8f89-1bf112d1565d",
   "metadata": {},
   "outputs": [],
   "source": [
    "# 쑥고개로\n",
    "for i in range(0, 20):\n",
    "    # Iterate over each heading\n",
    "    for heading in [0, 90, 180, 270]:\n",
    "        # API request parameters\n",
    "        params = {\n",
    "            \"size\": \"256x256\",\n",
    "            \"location\": f\"{lat_s + inc_ss * i},{lon_s + lon_inc_ss * i}\",\n",
    "            \"heading\": str(heading),\n",
    "            \"pitch\": \"0\",\n",
    "            \"key\": google_api_key \n",
    "        }\n",
    "\n",
    "        # API request and response check\n",
    "        response = requests.get(api_url, params=params)\n",
    "        if response.status_code == 200:\n",
    "            # Save image (include location index and heading in file name)\n",
    "            with open(f\"{folder_name_2}/image_{i}_heading_{heading}.jpg\", \"wb\") as file:\n",
    "                file.write(response.content)"
   ]
  },
  {
   "cell_type": "code",
   "execution_count": null,
   "id": "b9c15a89-f587-49c7-9afb-67f435d7feba",
   "metadata": {},
   "outputs": [
    {
     "name": "stdout",
     "output_type": "stream",
     "text": [
      "8.41000000001202e-05 2.9424999999960732e-05\n"
     ]
    }
   ],
   "source": [
    "#  Hongdae\n",
    "lat_3, lon_3 = 37.554197, 126.922500  # initial location\n",
    "lat_3e, lon_3e = 37.550833, 126.921323\n",
    "inc_3 =  (lat_3-lat_3e)/40 # steps\n",
    "lon_inc_3 = (lon_3-lon_3e)/40\n",
    "print(inc_3, lon_inc_3)"
   ]
  },
  {
   "cell_type": "code",
   "execution_count": null,
   "id": "2814026c-edd3-4ae1-a4a1-7fd632398497",
   "metadata": {},
   "outputs": [],
   "source": [
    "# Hongdae\n",
    "for i in range(0, 40):\n",
    "    # Iterate over each heading\n",
    "    for heading in [0, 90, 180, 270]:\n",
    "        # API request parameters\n",
    "        params = {\n",
    "            \"size\": \"256x256\",\n",
    "            \"location\": f\"{lat_3 + inc_3 * i},{lon_3 + lon_inc_3 * i}\",\n",
    "            \"heading\": str(heading),\n",
    "            \"pitch\": \"0\",\n",
    "            \"key\": google_api_key \n",
    "        }\n",
    "\n",
    "        # API request and response check\n",
    "        response = requests.get(api_url, params=params)\n",
    "        if response.status_code == 200:\n",
    "            # Save image (include location index and heading in file name)\n",
    "            with open(f\"{folder_name_3}/image_{i}_heading_{heading}.jpg\", \"wb\") as file:\n",
    "                file.write(response.content)"
   ]
  },
  {
   "cell_type": "code",
   "execution_count": null,
   "id": "fd3a799d-11cd-497c-ba2c-903d278e5225",
   "metadata": {},
   "outputs": [
    {
     "name": "stdout",
     "output_type": "stream",
     "text": [
      "-0.00011442499999994026 3.1925000000043724e-05\n"
     ]
    }
   ],
   "source": [
    "#  홍대\n",
    "lat_3, lon_3 = 37.554256, 126.922600  \n",
    "lat_3e, lon_3e = 37.558833, 126.921323\n",
    "inc_3 =  (lat_3-lat_3e)/40 \n",
    "lon_inc_3 = (lon_3-lon_3e)/40\n",
    "print(inc_3, lon_inc_3)"
   ]
  },
  {
   "cell_type": "code",
   "execution_count": null,
   "id": "b47d71e9-068f-486c-977e-faa8b7930f32",
   "metadata": {},
   "outputs": [],
   "source": [
    "# 홍대\n",
    "for i in range(0, 20):\n",
    "    # Iterate over each heading\n",
    "    for heading in [0, 90, 180, 270]:\n",
    "        # API request parameters\n",
    "        params = {\n",
    "            \"size\": \"256x256\",\n",
    "            \"location\": f\"{lat_3 + inc_3 * i},{lon_3 + lon_inc_3 * i}\",\n",
    "            \"heading\": str(heading),\n",
    "            \"pitch\": \"0\",\n",
    "            \"key\": google_api_key \n",
    "        }\n",
    "\n",
    "        # API request and response check\n",
    "        response = requests.get(api_url, params=params)\n",
    "        if response.status_code == 200:\n",
    "            # Save image (include location index and heading in file name)\n",
    "            with open(f\"{folder_name}/image_{i}_heading_{heading}.jpg\", \"wb\") as file:\n",
    "                file.write(response.content)"
   ]
  }
 ],
 "metadata": {
  "kernelspec": {
   "display_name": "ai2",
   "language": "python",
   "name": "python3"
  },
  "language_info": {
   "codemirror_mode": {
    "name": "ipython",
    "version": 3
   },
   "file_extension": ".py",
   "mimetype": "text/x-python",
   "name": "python",
   "nbconvert_exporter": "python",
   "pygments_lexer": "ipython3",
   "version": "3.11.5"
  }
 },
 "nbformat": 4,
 "nbformat_minor": 5
}
